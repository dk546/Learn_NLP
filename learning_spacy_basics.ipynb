{
 "cells": [
  {
   "cell_type": "code",
   "execution_count": 1,
   "metadata": {},
   "outputs": [],
   "source": [
    "import spacy"
   ]
  },
  {
   "cell_type": "code",
   "execution_count": 2,
   "metadata": {},
   "outputs": [],
   "source": [
    "nlp = spacy.load(\"en_core_web_sm\")"
   ]
  },
  {
   "cell_type": "code",
   "execution_count": 3,
   "metadata": {},
   "outputs": [
    {
     "data": {
      "text/plain": [
       "[('tok2vec', <spacy.pipeline.tok2vec.Tok2Vec at 0x25438547a70>),\n",
       " ('tagger', <spacy.pipeline.tagger.Tagger at 0x254385465d0>),\n",
       " ('parser', <spacy.pipeline.dep_parser.DependencyParser at 0x254385b23b0>),\n",
       " ('attribute_ruler',\n",
       "  <spacy.pipeline.attributeruler.AttributeRuler at 0x254386c28d0>),\n",
       " ('lemmatizer', <spacy.lang.en.lemmatizer.EnglishLemmatizer at 0x25438850b10>),\n",
       " ('ner', <spacy.pipeline.ner.EntityRecognizer at 0x254385b25e0>)]"
      ]
     },
     "execution_count": 3,
     "metadata": {},
     "output_type": "execute_result"
    }
   ],
   "source": [
    "nlp.pipeline"
   ]
  },
  {
   "cell_type": "code",
   "execution_count": 5,
   "metadata": {},
   "outputs": [],
   "source": [
    "doc = nlp(\"This is a sentence.This is another sentence.Tesla is a car company. Tesla revenue is 100 billion dollars.\")"
   ]
  },
  {
   "cell_type": "code",
   "execution_count": 6,
   "metadata": {},
   "outputs": [
    {
     "name": "stdout",
     "output_type": "stream",
     "text": [
      "This this PRON DT nsubj Xxxx True True\n",
      "is be AUX VBZ ROOT xx True True\n",
      "a a DET DT det x True True\n",
      "sentence sentence NOUN NN attr xxxx True False\n",
      ". . PUNCT . punct . False False\n",
      "This this PRON DT nsubj Xxxx True True\n",
      "is be AUX VBZ ROOT xx True True\n",
      "another another DET DT det xxxx True True\n",
      "sentence sentence NOUN NN attr xxxx True False\n",
      ". . PUNCT . punct . False False\n",
      "Tesla Tesla PROPN NNP nsubj Xxxxx True False\n",
      "is be AUX VBZ ROOT xx True True\n",
      "a a DET DT det x True True\n",
      "car car NOUN NN compound xxx True False\n",
      "company company NOUN NN attr xxxx True False\n",
      ". . PUNCT . punct . False False\n",
      "Tesla tesla ADJ JJ amod Xxxxx True False\n",
      "revenue revenue NOUN NN nsubj xxxx True False\n",
      "is be AUX VBZ ROOT xx True True\n",
      "100 100 NUM CD compound ddd False False\n",
      "billion billion NUM CD nummod xxxx True False\n",
      "dollars dollar NOUN NNS attr xxxx True False\n",
      ". . PUNCT . punct . False False\n"
     ]
    }
   ],
   "source": [
    "for token in doc:\n",
    "    print(token.text, token.lemma_, token.pos_, token.tag_, token.dep_,\n",
    "          token.shape_, token.is_alpha, token.is_stop)"
   ]
  },
  {
   "cell_type": "code",
   "execution_count": null,
   "metadata": {},
   "outputs": [],
   "source": []
  }
 ],
 "metadata": {
  "kernelspec": {
   "display_name": "base",
   "language": "python",
   "name": "python3"
  },
  "language_info": {
   "codemirror_mode": {
    "name": "ipython",
    "version": 3
   },
   "file_extension": ".py",
   "mimetype": "text/x-python",
   "name": "python",
   "nbconvert_exporter": "python",
   "pygments_lexer": "ipython3",
   "version": "3.12.3"
  }
 },
 "nbformat": 4,
 "nbformat_minor": 2
}
